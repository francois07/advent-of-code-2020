{
  "cells": [
    {
      "cell_type": "markdown",
      "metadata": {
        "id": "tJCn4RnC1UPi"
      },
      "source": [
        "# DeepSponsorBlock : Détection de séquences sponsorisées Youtube\n",
        "\n",
        "test"
      ]
    },
    {
      "cell_type": "markdown",
      "source": [
        "## Imports"
      ],
      "metadata": {
        "id": "H0yRp5lsHI9v"
      }
    },
    {
      "cell_type": "code",
      "execution_count": null,
      "metadata": {
        "colab": {
          "base_uri": "https://localhost:8080/"
        },
        "id": "FQqttQA_1RXN",
        "outputId": "9a94bdd2-ca1e-4d7e-c5b5-c58848906870"
      },
      "outputs": [
        {
          "output_type": "stream",
          "name": "stdout",
          "text": [
            "Reading package lists... Done\n",
            "Building dependency tree       \n",
            "Reading state information... Done\n",
            "ffmpeg is already the newest version (7:4.2.7-0ubuntu0.1).\n",
            "0 upgraded, 0 newly installed, 0 to remove and 27 not upgraded.\n",
            "Mounted at /content/gdrive/\n"
          ]
        }
      ],
      "source": [
        "import numpy as np\n",
        "import pandas as pd\n",
        "\n",
        "try: \n",
        "  import yt_dlp\n",
        "except:\n",
        "  ! pip install yt_dlp\n",
        "  import yt_dlp\n",
        "\n",
        "!apt -y install ffmpeg\n",
        "\n",
        "from multiprocessing import cpu_count\n",
        "from multiprocessing.pool import ThreadPool\n",
        "\n",
        "from google.colab import drive\n",
        "\n",
        "drive.mount('/content/gdrive/', force_remount=True)\n",
        "\n",
        "# Besoin de créer un raccourci vers le dossier partagé dans MON DRIVE avant, renommé DeepSponsorBlock SINON RIEN NE FONCTIONNE\n",
        "base_dir = \"/content/gdrive/MyDrive/DeepSponsorBlock/\""
      ]
    },
    {
      "cell_type": "markdown",
      "source": [
        "## Étude et nettoyage du dataset"
      ],
      "metadata": {
        "id": "DvAOceknGKHw"
      }
    },
    {
      "cell_type": "code",
      "execution_count": null,
      "metadata": {
        "id": "LuHPktCC8lcR"
      },
      "outputs": [],
      "source": [
        "df=pd.read_csv(base_dir + \"sponsorTimes.csv\")"
      ]
    },
    {
      "cell_type": "code",
      "execution_count": null,
      "metadata": {
        "id": "itOJeDJJD0rL"
      },
      "outputs": [],
      "source": [
        "df"
      ]
    },
    {
      "cell_type": "code",
      "execution_count": null,
      "metadata": {
        "colab": {
          "base_uri": "https://localhost:8080/"
        },
        "id": "-hnQfsaED2Ul",
        "outputId": "3bb27249-2b57-4bf5-fd84-bc3e0f17864a"
      },
      "outputs": [
        {
          "data": {
            "text/plain": [
              "(13316947, 20)"
            ]
          },
          "execution_count": 5,
          "metadata": {},
          "output_type": "execute_result"
        }
      ],
      "source": [
        "df.shape"
      ]
    },
    {
      "cell_type": "code",
      "execution_count": null,
      "metadata": {
        "colab": {
          "base_uri": "https://localhost:8080/"
        },
        "id": "pPiIXGRUD34M",
        "outputId": "e9ea2c50-c90d-4bd1-8a8d-0a61218c78d6"
      },
      "outputs": [
        {
          "name": "stdout",
          "output_type": "stream",
          "text": [
            "<class 'pandas.core.frame.DataFrame'>\n",
            "RangeIndex: 13316947 entries, 0 to 13316946\n",
            "Data columns (total 20 columns):\n",
            " #   Column          Dtype  \n",
            "---  ------          -----  \n",
            " 0   videoID         object \n",
            " 1   startTime       float64\n",
            " 2   endTime         float64\n",
            " 3   votes           int64  \n",
            " 4   locked          int64  \n",
            " 5   incorrectVotes  int64  \n",
            " 6   UUID            object \n",
            " 7   userID          object \n",
            " 8   timeSubmitted   int64  \n",
            " 9   views           int64  \n",
            " 10  category        object \n",
            " 11  actionType      object \n",
            " 12  service         object \n",
            " 13  videoDuration   float64\n",
            " 14  hidden          int64  \n",
            " 15  reputation      float64\n",
            " 16  shadowHidden    int64  \n",
            " 17  hashedVideoID   object \n",
            " 18  userAgent       object \n",
            " 19  description     object \n",
            "dtypes: float64(4), int64(7), object(9)\n",
            "memory usage: 2.0+ GB\n"
          ]
        }
      ],
      "source": [
        "df.info()"
      ]
    },
    {
      "cell_type": "code",
      "execution_count": null,
      "metadata": {
        "colab": {
          "base_uri": "https://localhost:8080/"
        },
        "id": "S9RwQ21uD6Gl",
        "outputId": "754f8312-a76d-443d-a692-0ceb07b780aa"
      },
      "outputs": [
        {
          "data": {
            "text/plain": [
              "<bound method NDFrame.describe of               videoID   startTime     endTime  votes  locked  incorrectVotes  \\\n",
              "0         FfgT6zx4k3Q   446.51013   513.39233    225       0               1   \n",
              "1         fBxtS9BpVWs    41.00000    53.00000    116       0               1   \n",
              "2         AM1-ecnQsm4   164.88225   206.00000     -2       0               1   \n",
              "3         fBxtS9BpVWs   714.00000   763.00000     64       0               1   \n",
              "4         uqKGREZs6-w   475.52167   532.20874    302       0               1   \n",
              "...               ...         ...         ...    ...     ...             ...   \n",
              "13316942  aBqtEJv1W9k   508.18000   516.99500      0       0               1   \n",
              "13316943  aBqtEJv1W9k  2091.88000  2104.00000      0       0               1   \n",
              "13316944  A-hupIpyR0c     0.00000    12.32000      0       0               1   \n",
              "13316945  A-hupIpyR0c  2441.74000  2448.02400      0       0               1   \n",
              "13316946  W8ZjrcTbiq4     1.15500    64.99400      0       0               1   \n",
              "\n",
              "                                                       UUID  \\\n",
              "0                      96150fa0-a28a-11e9-b210-99c885575bb9   \n",
              "1                      b2465943-1313-449c-b75c-08b14756ac0a   \n",
              "2                      467137b0-af20-11e9-93c3-13d71c2776be   \n",
              "3                      7c9619bd-8d91-4b42-a9be-39ffc99dad4a   \n",
              "4                      622f9270-a2a1-11e9-b210-99c885575bb9   \n",
              "...                                                     ...   \n",
              "13316942  33ec2e1af1c26e0f7528eed1e3c8ce39ca9599af0ed37f...   \n",
              "13316943  a4676cb202621f8c72e90ebd7c2c1faf16f3259696ae4c...   \n",
              "13316944  6f19320d8854f67429e3db6f984539a2f4cca630dfa5ed...   \n",
              "13316945  ce4fd3ef633b2fd8dbff76960c9cb1ad7001bcefea1703...   \n",
              "13316946  063760d4c69cfd2a0f6e1062810c46daa441813285ceee...   \n",
              "\n",
              "                                                     userID  timeSubmitted  \\\n",
              "0                      38e7c2af-09f4-4492-bf49-75e443962ccd  1564088876715   \n",
              "1                      38e7c2af-09f4-4492-bf49-75e443962ccd  1564088876715   \n",
              "2                      38e7c2af-09f4-4492-bf49-75e443962ccd  1564088876715   \n",
              "3                      38e7c2af-09f4-4492-bf49-75e443962ccd  1564088876715   \n",
              "4                      38e7c2af-09f4-4492-bf49-75e443962ccd  1564088876715   \n",
              "...                                                     ...            ...   \n",
              "13316942  0376e6169da0103e7eaa4ef32c0aa79c3c73235715f6a1...  1674370768209   \n",
              "13316943  0376e6169da0103e7eaa4ef32c0aa79c3c73235715f6a1...  1674370768209   \n",
              "13316944  bd9f407797311020bfc51d48245d13bc3c780e6f4d773f...  1674370800217   \n",
              "13316945  bd9f407797311020bfc51d48245d13bc3c780e6f4d773f...  1674370800217   \n",
              "13316946  6fbb0da5a09dd78ecf7a28b36893ebc14b6f8e7c6ec34a...  1674370803405   \n",
              "\n",
              "          views   category actionType  service  videoDuration  hidden  \\\n",
              "0          3221    sponsor       skip  YouTube          0.000       1   \n",
              "1           619    sponsor       skip  YouTube          0.000       0   \n",
              "2           133    sponsor       skip  YouTube          0.000       0   \n",
              "3           326    sponsor       skip  YouTube          0.000       0   \n",
              "4         12428    sponsor       skip  YouTube          0.000       0   \n",
              "...         ...        ...        ...      ...            ...     ...   \n",
              "13316942      0    sponsor       skip  YouTube      20831.021       0   \n",
              "13316943      0  selfpromo       skip  YouTube      20831.021       0   \n",
              "13316944      0      intro       skip  YouTube       2448.024       0   \n",
              "13316945      0      outro       skip  YouTube       2448.024       0   \n",
              "13316946      0    preview       skip  YouTube       1163.000       0   \n",
              "\n",
              "          reputation  shadowHidden  \\\n",
              "0           0.000000             0   \n",
              "1           0.000000             0   \n",
              "2           0.000000             0   \n",
              "3           0.000000             0   \n",
              "4           0.000000             0   \n",
              "...              ...           ...   \n",
              "13316942    0.000000             0   \n",
              "13316943    0.000000             0   \n",
              "13316944    0.000000             0   \n",
              "13316945    0.000000             0   \n",
              "13316946    1.013793             0   \n",
              "\n",
              "                                              hashedVideoID  \\\n",
              "0         0bfebefdc667735b19d5f2630e7e83a5f7fdddb880534e...   \n",
              "1         bdd81b2b8192683242fe3608c45d5b958ddc71e9b2981a...   \n",
              "2         e294b5c58ceb6e4fd82919cc3387e60ac2bc9573570e26...   \n",
              "3         bdd81b2b8192683242fe3608c45d5b958ddc71e9b2981a...   \n",
              "4         70f8d0e75affa202ab510bd86828080af1dddf9218be46...   \n",
              "...                                                     ...   \n",
              "13316942  09fde032b07eb4526692869a93712b3c50528a1985d682...   \n",
              "13316943  09fde032b07eb4526692869a93712b3c50528a1985d682...   \n",
              "13316944  bf1e2626e9d88d5aafe223b78f29fe37b520c7e232d389...   \n",
              "13316945  bf1e2626e9d88d5aafe223b78f29fe37b520c7e232d389...   \n",
              "13316946  39398d2af19b23300538fd50e8846cc3f8540b8ed8ca12...   \n",
              "\n",
              "                                         userAgent description  \n",
              "0                                              NaN         NaN  \n",
              "1                                              NaN         NaN  \n",
              "2                                              NaN         NaN  \n",
              "3                                              NaN         NaN  \n",
              "4                                              NaN         NaN  \n",
              "...                                            ...         ...  \n",
              "13316942  mnjggcdmjocbbbhaepdhchncahnbgone/v5.1.10         NaN  \n",
              "13316943  mnjggcdmjocbbbhaepdhchncahnbgone/v5.1.10         NaN  \n",
              "13316944  mnjggcdmjocbbbhaepdhchncahnbgone/v5.1.10         NaN  \n",
              "13316945  mnjggcdmjocbbbhaepdhchncahnbgone/v5.1.10         NaN  \n",
              "13316946                                       NaN         NaN  \n",
              "\n",
              "[13316947 rows x 20 columns]>"
            ]
          },
          "execution_count": 6,
          "metadata": {},
          "output_type": "execute_result"
        }
      ],
      "source": [
        "df.describe"
      ]
    },
    {
      "cell_type": "code",
      "execution_count": null,
      "metadata": {
        "colab": {
          "background_save": true,
          "base_uri": "https://localhost:8080/"
        },
        "id": "TM-Ry26W7sm7",
        "outputId": "b1267cb7-6db1-4dd6-c91e-53c4fc4b79b5"
      },
      "outputs": [
        {
          "data": {
            "text/plain": [
              "videoID                 54\n",
              "startTime                0\n",
              "endTime                  0\n",
              "votes                    0\n",
              "locked                   0\n",
              "incorrectVotes           0\n",
              "UUID                     0\n",
              "userID                   0\n",
              "timeSubmitted            0\n",
              "views                    0\n",
              "category                 0\n",
              "actionType               0\n",
              "service                  0\n",
              "videoDuration            0\n",
              "hidden                   0\n",
              "reputation              80\n",
              "shadowHidden             0\n",
              "hashedVideoID            0\n",
              "userAgent          2493266\n",
              "description       13295429\n",
              "dtype: int64"
            ]
          },
          "execution_count": 9,
          "metadata": {},
          "output_type": "execute_result"
        }
      ],
      "source": [
        "df.isna().sum()"
      ]
    },
    {
      "cell_type": "code",
      "execution_count": null,
      "metadata": {
        "colab": {
          "background_save": true,
          "base_uri": "https://localhost:8080/"
        },
        "id": "eMlmhzgxKftX",
        "outputId": "73183596-e4b1-4621-f4ec-836285313d42"
      },
      "outputs": [
        {
          "data": {
            "text/plain": [
              "15788829"
            ]
          },
          "execution_count": 10,
          "metadata": {},
          "output_type": "execute_result"
        }
      ],
      "source": [
        "df.isna().sum().sum()"
      ]
    },
    {
      "cell_type": "code",
      "execution_count": null,
      "metadata": {
        "colab": {
          "background_save": true,
          "base_uri": "https://localhost:8080/"
        },
        "id": "og7-KZlzBTPN",
        "outputId": "acb0cf77-e2cc-4c29-e15d-b148ac1cddcb"
      },
      "outputs": [
        {
          "data": {
            "text/plain": [
              "5693471"
            ]
          },
          "execution_count": 11,
          "metadata": {},
          "output_type": "execute_result"
        }
      ],
      "source": [
        "len((df['videoID']).unique())"
      ]
    },
    {
      "cell_type": "code",
      "execution_count": null,
      "metadata": {
        "colab": {
          "background_save": true
        },
        "id": "HlHkMtGtJRvo"
      },
      "outputs": [],
      "source": [
        "df=df.drop(['description','userAgent'], axis=1)"
      ]
    },
    {
      "cell_type": "code",
      "execution_count": null,
      "metadata": {
        "colab": {
          "background_save": true
        },
        "id": "CrGo7R-xxx3L"
      },
      "outputs": [],
      "source": [
        "df=df.query(\"category=='sponsor'\")"
      ]
    },
    {
      "cell_type": "code",
      "execution_count": null,
      "metadata": {
        "colab": {
          "base_uri": "https://localhost:8080/"
        },
        "id": "enlT0anIzaBe",
        "outputId": "561fabb3-4e95-4b61-ba66-b2cbb2a8a6de"
      },
      "outputs": [
        {
          "output_type": "stream",
          "name": "stdout",
          "text": [
            "<class 'pandas.core.frame.DataFrame'>\n",
            "Int64Index: 2228411 entries, 0 to 13316942\n",
            "Data columns (total 18 columns):\n",
            " #   Column          Dtype  \n",
            "---  ------          -----  \n",
            " 0   videoID         object \n",
            " 1   startTime       float64\n",
            " 2   endTime         float64\n",
            " 3   votes           int64  \n",
            " 4   locked          int64  \n",
            " 5   incorrectVotes  int64  \n",
            " 6   UUID            object \n",
            " 7   userID          object \n",
            " 8   timeSubmitted   int64  \n",
            " 9   views           int64  \n",
            " 10  category        object \n",
            " 11  actionType      object \n",
            " 12  service         object \n",
            " 13  videoDuration   float64\n",
            " 14  hidden          int64  \n",
            " 15  reputation      float64\n",
            " 16  shadowHidden    int64  \n",
            " 17  hashedVideoID   object \n",
            "dtypes: float64(4), int64(7), object(7)\n",
            "memory usage: 387.5+ MB\n"
          ]
        }
      ],
      "source": [
        "df.info()"
      ]
    },
    {
      "cell_type": "code",
      "execution_count": null,
      "metadata": {
        "colab": {
          "background_save": true,
          "base_uri": "https://localhost:8080/"
        },
        "id": "6SLp_-KTzhWb",
        "outputId": "7387d027-7bb6-4902-d8b8-c84d7f5866ec"
      },
      "outputs": [
        {
          "data": {
            "text/plain": [
              "(2228411, 18)"
            ]
          },
          "execution_count": 15,
          "metadata": {},
          "output_type": "execute_result"
        }
      ],
      "source": [
        "df.shape"
      ]
    },
    {
      "cell_type": "code",
      "execution_count": null,
      "metadata": {
        "colab": {
          "background_save": true
        },
        "id": "zGeBYHjsSJpT"
      },
      "outputs": [],
      "source": [
        "df.dropna(axis=0).isna().sum()"
      ]
    },
    {
      "cell_type": "code",
      "execution_count": null,
      "metadata": {
        "colab": {
          "background_save": true,
          "base_uri": "https://localhost:8080/"
        },
        "id": "prgLBIRuTQkZ",
        "outputId": "1dc98f07-f9d6-4f38-bec2-9c9f05f81688"
      },
      "outputs": [
        {
          "data": {
            "text/plain": [
              "39"
            ]
          },
          "execution_count": 17,
          "metadata": {},
          "output_type": "execute_result"
        }
      ],
      "source": [
        "len(df.dropna(axis=0))"
      ]
    },
    {
      "cell_type": "code",
      "source": [
        "df_vip=pd.read_csv(base_dir + \"vipUsers.csv\")"
      ],
      "metadata": {
        "id": "ccqbhXLdYqXM"
      },
      "execution_count": null,
      "outputs": []
    },
    {
      "cell_type": "code",
      "source": [
        "if(df_vip['userID'][0] in df['userID']):\n",
        "  print('okay')\n",
        "else: print(\"no\")"
      ],
      "metadata": {
        "colab": {
          "base_uri": "https://localhost:8080/"
        },
        "id": "TAg19Gv3Y0sX",
        "outputId": "99fb4abd-e6cd-42d3-8dc1-10eec2311365"
      },
      "execution_count": null,
      "outputs": [
        {
          "output_type": "stream",
          "name": "stdout",
          "text": [
            "no\n"
          ]
        }
      ]
    },
    {
      "cell_type": "code",
      "source": [
        "(df['userID'][0:10])"
      ],
      "metadata": {
        "colab": {
          "base_uri": "https://localhost:8080/"
        },
        "id": "IMujufhOu_Ee",
        "outputId": "da1962d9-6e60-49cf-9780-787367afca71"
      },
      "execution_count": null,
      "outputs": [
        {
          "output_type": "execute_result",
          "data": {
            "text/plain": [
              "0    38e7c2af-09f4-4492-bf49-75e443962ccd\n",
              "1    38e7c2af-09f4-4492-bf49-75e443962ccd\n",
              "2    38e7c2af-09f4-4492-bf49-75e443962ccd\n",
              "3    38e7c2af-09f4-4492-bf49-75e443962ccd\n",
              "4    38e7c2af-09f4-4492-bf49-75e443962ccd\n",
              "5    38e7c2af-09f4-4492-bf49-75e443962ccd\n",
              "6    38e7c2af-09f4-4492-bf49-75e443962ccd\n",
              "7    38e7c2af-09f4-4492-bf49-75e443962ccd\n",
              "8    38e7c2af-09f4-4492-bf49-75e443962ccd\n",
              "9    38e7c2af-09f4-4492-bf49-75e443962ccd\n",
              "Name: userID, dtype: object"
            ]
          },
          "metadata": {},
          "execution_count": 67
        }
      ]
    },
    {
      "cell_type": "code",
      "source": [
        "df1=df.query(\"(locked>=1 and videoDuration<1200) or (votes>=10 and videoDuration<1200 and locked==0)\") \n",
        "len(df1)"
      ],
      "metadata": {
        "colab": {
          "base_uri": "https://localhost:8080/"
        },
        "id": "sxeXfTCmvrqA",
        "outputId": "5e7f5890-c094-4330-8fb0-6c582aacc511"
      },
      "execution_count": null,
      "outputs": [
        {
          "output_type": "execute_result",
          "data": {
            "text/plain": [
              "90230"
            ]
          },
          "metadata": {},
          "execution_count": 108
        }
      ]
    },
    {
      "cell_type": "code",
      "source": [
        "df1=df1.query(\"locked>=1 and reputation==0\") \n",
        "len(df1)"
      ],
      "metadata": {
        "colab": {
          "base_uri": "https://localhost:8080/"
        },
        "id": "o0GfcdWb5bFv",
        "outputId": "d440e013-c169-4715-ad7f-59e50d87423d"
      },
      "execution_count": null,
      "outputs": [
        {
          "output_type": "execute_result",
          "data": {
            "text/plain": [
              "9264"
            ]
          },
          "metadata": {},
          "execution_count": 120
        }
      ]
    },
    {
      "cell_type": "code",
      "source": [
        "df1.isna().sum()"
      ],
      "metadata": {
        "colab": {
          "base_uri": "https://localhost:8080/"
        },
        "id": "CWxs38RIZ79b",
        "outputId": "0012f5ba-8274-402d-f5ae-f24bbf58ec2d"
      },
      "execution_count": null,
      "outputs": [
        {
          "output_type": "execute_result",
          "data": {
            "text/plain": [
              "videoID           0\n",
              "startTime         0\n",
              "endTime           0\n",
              "votes             0\n",
              "locked            0\n",
              "incorrectVotes    0\n",
              "UUID              0\n",
              "userID            0\n",
              "timeSubmitted     0\n",
              "views             0\n",
              "category          0\n",
              "actionType        0\n",
              "service           0\n",
              "videoDuration     0\n",
              "hidden            0\n",
              "reputation        0\n",
              "shadowHidden      0\n",
              "hashedVideoID     0\n",
              "dtype: int64"
            ]
          },
          "metadata": {},
          "execution_count": 118
        }
      ]
    },
    {
      "cell_type": "code",
      "source": [
        "(df['userID']=='57ddecc5b36813ddb8ea1eba73342c8a783527b884b6ebcb177bf37cafce7620').sum()"
      ],
      "metadata": {
        "colab": {
          "base_uri": "https://localhost:8080/"
        },
        "id": "ydbStUdAXlCW",
        "outputId": "66a3bdea-63c6-491c-9ce5-ebaab8289902"
      },
      "execution_count": null,
      "outputs": [
        {
          "output_type": "execute_result",
          "data": {
            "text/plain": [
              "1415"
            ]
          },
          "metadata": {},
          "execution_count": 40
        }
      ]
    },
    {
      "cell_type": "code",
      "source": [
        "df"
      ],
      "metadata": {
        "colab": {
          "base_uri": "https://localhost:8080/",
          "height": 487
        },
        "id": "t7HlJCJszZek",
        "outputId": "f0e84eb1-35cf-4c86-8622-c344df7d53ef"
      },
      "execution_count": null,
      "outputs": [
        {
          "output_type": "execute_result",
          "data": {
            "text/plain": [
              "              videoID  startTime    endTime  votes  locked  incorrectVotes  \\\n",
              "0         FfgT6zx4k3Q  446.51013  513.39233    225       0               1   \n",
              "1         fBxtS9BpVWs   41.00000   53.00000    116       0               1   \n",
              "2         AM1-ecnQsm4  164.88225  206.00000     -2       0               1   \n",
              "3         fBxtS9BpVWs  714.00000  763.00000     64       0               1   \n",
              "4         uqKGREZs6-w  475.52167  532.20874    302       0               1   \n",
              "...               ...        ...        ...    ...     ...             ...   \n",
              "13316928  zyCaDmexT9U    3.42800   21.07000      0       0               1   \n",
              "13316929  zyCaDmexT9U  578.43800  605.71500      0       0               1   \n",
              "13316931  0i84SlZWHWc  330.65600  465.50300      0       0               1   \n",
              "13316936  dSa4oL1_f5A  133.94400  197.04500      0       1               1   \n",
              "13316942  aBqtEJv1W9k  508.18000  516.99500      0       0               1   \n",
              "\n",
              "                                                       UUID  \\\n",
              "0                      96150fa0-a28a-11e9-b210-99c885575bb9   \n",
              "1                      b2465943-1313-449c-b75c-08b14756ac0a   \n",
              "2                      467137b0-af20-11e9-93c3-13d71c2776be   \n",
              "3                      7c9619bd-8d91-4b42-a9be-39ffc99dad4a   \n",
              "4                      622f9270-a2a1-11e9-b210-99c885575bb9   \n",
              "...                                                     ...   \n",
              "13316928  2099b8a6854b56bafce061b1713b30fd19d21e4ab9e220...   \n",
              "13316929  2064917f02d059d3ca829d3135b88277b93561347ff1e9...   \n",
              "13316931  7109a12ee6920e701e5fbca7dcfb58020427211f9b4a00...   \n",
              "13316936  0a2f61134120884f22e9a660955d9c876bef2ba12dfe3d...   \n",
              "13316942  33ec2e1af1c26e0f7528eed1e3c8ce39ca9599af0ed37f...   \n",
              "\n",
              "                                                     userID  timeSubmitted  \\\n",
              "0                      38e7c2af-09f4-4492-bf49-75e443962ccd  1564088876715   \n",
              "1                      38e7c2af-09f4-4492-bf49-75e443962ccd  1564088876715   \n",
              "2                      38e7c2af-09f4-4492-bf49-75e443962ccd  1564088876715   \n",
              "3                      38e7c2af-09f4-4492-bf49-75e443962ccd  1564088876715   \n",
              "4                      38e7c2af-09f4-4492-bf49-75e443962ccd  1564088876715   \n",
              "...                                                     ...            ...   \n",
              "13316928  0719afa780fc1a5163ba7a91083139247d1e7f47001ce2...  1674370589728   \n",
              "13316929  0719afa780fc1a5163ba7a91083139247d1e7f47001ce2...  1674370589728   \n",
              "13316931  1f8052e3c092af9030f652066ebf3fe08f42908dbd58a6...  1674370644379   \n",
              "13316936  a5fa6d15d60fa762a18045826ca149bbacda3b30b9ed37...  1674370726935   \n",
              "13316942  0376e6169da0103e7eaa4ef32c0aa79c3c73235715f6a1...  1674370768209   \n",
              "\n",
              "          views category actionType  service  videoDuration  hidden  \\\n",
              "0          3221  sponsor       skip  YouTube          0.000       1   \n",
              "1           619  sponsor       skip  YouTube          0.000       0   \n",
              "2           133  sponsor       skip  YouTube          0.000       0   \n",
              "3           326  sponsor       skip  YouTube          0.000       0   \n",
              "4         12428  sponsor       skip  YouTube          0.000       0   \n",
              "...         ...      ...        ...      ...            ...     ...   \n",
              "13316928      0  sponsor       skip  YouTube       4097.021       0   \n",
              "13316929      0  sponsor       skip  YouTube       4097.021       0   \n",
              "13316931      0  sponsor       skip  YouTube       3479.000       0   \n",
              "13316936      0  sponsor       skip  YouTube        809.141       0   \n",
              "13316942      0  sponsor       skip  YouTube      20831.021       0   \n",
              "\n",
              "          reputation  shadowHidden  \\\n",
              "0           0.000000             0   \n",
              "1           0.000000             0   \n",
              "2           0.000000             0   \n",
              "3           0.000000             0   \n",
              "4           0.000000             0   \n",
              "...              ...           ...   \n",
              "13316928    0.000000             0   \n",
              "13316929    0.000000             0   \n",
              "13316931    0.000000             0   \n",
              "13316936   21.834482             0   \n",
              "13316942    0.000000             0   \n",
              "\n",
              "                                              hashedVideoID  \n",
              "0         0bfebefdc667735b19d5f2630e7e83a5f7fdddb880534e...  \n",
              "1         bdd81b2b8192683242fe3608c45d5b958ddc71e9b2981a...  \n",
              "2         e294b5c58ceb6e4fd82919cc3387e60ac2bc9573570e26...  \n",
              "3         bdd81b2b8192683242fe3608c45d5b958ddc71e9b2981a...  \n",
              "4         70f8d0e75affa202ab510bd86828080af1dddf9218be46...  \n",
              "...                                                     ...  \n",
              "13316928  de5ca36f99472672da79fb309bf7dcdb68610eafd3354a...  \n",
              "13316929  de5ca36f99472672da79fb309bf7dcdb68610eafd3354a...  \n",
              "13316931  fa6db790728f22501ebf6cf174350d0347fc64456b8132...  \n",
              "13316936  fb658223dba48f5d29a52a98cb271980c4b00e30953b8b...  \n",
              "13316942  09fde032b07eb4526692869a93712b3c50528a1985d682...  \n",
              "\n",
              "[2228411 rows x 18 columns]"
            ],
            "text/html": [
              "\n",
              "  <div id=\"df-9345f928-6a0d-4b6b-bd01-801e7d7463c5\">\n",
              "    <div class=\"colab-df-container\">\n",
              "      <div>\n",
              "<style scoped>\n",
              "    .dataframe tbody tr th:only-of-type {\n",
              "        vertical-align: middle;\n",
              "    }\n",
              "\n",
              "    .dataframe tbody tr th {\n",
              "        vertical-align: top;\n",
              "    }\n",
              "\n",
              "    .dataframe thead th {\n",
              "        text-align: right;\n",
              "    }\n",
              "</style>\n",
              "<table border=\"1\" class=\"dataframe\">\n",
              "  <thead>\n",
              "    <tr style=\"text-align: right;\">\n",
              "      <th></th>\n",
              "      <th>videoID</th>\n",
              "      <th>startTime</th>\n",
              "      <th>endTime</th>\n",
              "      <th>votes</th>\n",
              "      <th>locked</th>\n",
              "      <th>incorrectVotes</th>\n",
              "      <th>UUID</th>\n",
              "      <th>userID</th>\n",
              "      <th>timeSubmitted</th>\n",
              "      <th>views</th>\n",
              "      <th>category</th>\n",
              "      <th>actionType</th>\n",
              "      <th>service</th>\n",
              "      <th>videoDuration</th>\n",
              "      <th>hidden</th>\n",
              "      <th>reputation</th>\n",
              "      <th>shadowHidden</th>\n",
              "      <th>hashedVideoID</th>\n",
              "    </tr>\n",
              "  </thead>\n",
              "  <tbody>\n",
              "    <tr>\n",
              "      <th>0</th>\n",
              "      <td>FfgT6zx4k3Q</td>\n",
              "      <td>446.51013</td>\n",
              "      <td>513.39233</td>\n",
              "      <td>225</td>\n",
              "      <td>0</td>\n",
              "      <td>1</td>\n",
              "      <td>96150fa0-a28a-11e9-b210-99c885575bb9</td>\n",
              "      <td>38e7c2af-09f4-4492-bf49-75e443962ccd</td>\n",
              "      <td>1564088876715</td>\n",
              "      <td>3221</td>\n",
              "      <td>sponsor</td>\n",
              "      <td>skip</td>\n",
              "      <td>YouTube</td>\n",
              "      <td>0.000</td>\n",
              "      <td>1</td>\n",
              "      <td>0.000000</td>\n",
              "      <td>0</td>\n",
              "      <td>0bfebefdc667735b19d5f2630e7e83a5f7fdddb880534e...</td>\n",
              "    </tr>\n",
              "    <tr>\n",
              "      <th>1</th>\n",
              "      <td>fBxtS9BpVWs</td>\n",
              "      <td>41.00000</td>\n",
              "      <td>53.00000</td>\n",
              "      <td>116</td>\n",
              "      <td>0</td>\n",
              "      <td>1</td>\n",
              "      <td>b2465943-1313-449c-b75c-08b14756ac0a</td>\n",
              "      <td>38e7c2af-09f4-4492-bf49-75e443962ccd</td>\n",
              "      <td>1564088876715</td>\n",
              "      <td>619</td>\n",
              "      <td>sponsor</td>\n",
              "      <td>skip</td>\n",
              "      <td>YouTube</td>\n",
              "      <td>0.000</td>\n",
              "      <td>0</td>\n",
              "      <td>0.000000</td>\n",
              "      <td>0</td>\n",
              "      <td>bdd81b2b8192683242fe3608c45d5b958ddc71e9b2981a...</td>\n",
              "    </tr>\n",
              "    <tr>\n",
              "      <th>2</th>\n",
              "      <td>AM1-ecnQsm4</td>\n",
              "      <td>164.88225</td>\n",
              "      <td>206.00000</td>\n",
              "      <td>-2</td>\n",
              "      <td>0</td>\n",
              "      <td>1</td>\n",
              "      <td>467137b0-af20-11e9-93c3-13d71c2776be</td>\n",
              "      <td>38e7c2af-09f4-4492-bf49-75e443962ccd</td>\n",
              "      <td>1564088876715</td>\n",
              "      <td>133</td>\n",
              "      <td>sponsor</td>\n",
              "      <td>skip</td>\n",
              "      <td>YouTube</td>\n",
              "      <td>0.000</td>\n",
              "      <td>0</td>\n",
              "      <td>0.000000</td>\n",
              "      <td>0</td>\n",
              "      <td>e294b5c58ceb6e4fd82919cc3387e60ac2bc9573570e26...</td>\n",
              "    </tr>\n",
              "    <tr>\n",
              "      <th>3</th>\n",
              "      <td>fBxtS9BpVWs</td>\n",
              "      <td>714.00000</td>\n",
              "      <td>763.00000</td>\n",
              "      <td>64</td>\n",
              "      <td>0</td>\n",
              "      <td>1</td>\n",
              "      <td>7c9619bd-8d91-4b42-a9be-39ffc99dad4a</td>\n",
              "      <td>38e7c2af-09f4-4492-bf49-75e443962ccd</td>\n",
              "      <td>1564088876715</td>\n",
              "      <td>326</td>\n",
              "      <td>sponsor</td>\n",
              "      <td>skip</td>\n",
              "      <td>YouTube</td>\n",
              "      <td>0.000</td>\n",
              "      <td>0</td>\n",
              "      <td>0.000000</td>\n",
              "      <td>0</td>\n",
              "      <td>bdd81b2b8192683242fe3608c45d5b958ddc71e9b2981a...</td>\n",
              "    </tr>\n",
              "    <tr>\n",
              "      <th>4</th>\n",
              "      <td>uqKGREZs6-w</td>\n",
              "      <td>475.52167</td>\n",
              "      <td>532.20874</td>\n",
              "      <td>302</td>\n",
              "      <td>0</td>\n",
              "      <td>1</td>\n",
              "      <td>622f9270-a2a1-11e9-b210-99c885575bb9</td>\n",
              "      <td>38e7c2af-09f4-4492-bf49-75e443962ccd</td>\n",
              "      <td>1564088876715</td>\n",
              "      <td>12428</td>\n",
              "      <td>sponsor</td>\n",
              "      <td>skip</td>\n",
              "      <td>YouTube</td>\n",
              "      <td>0.000</td>\n",
              "      <td>0</td>\n",
              "      <td>0.000000</td>\n",
              "      <td>0</td>\n",
              "      <td>70f8d0e75affa202ab510bd86828080af1dddf9218be46...</td>\n",
              "    </tr>\n",
              "    <tr>\n",
              "      <th>...</th>\n",
              "      <td>...</td>\n",
              "      <td>...</td>\n",
              "      <td>...</td>\n",
              "      <td>...</td>\n",
              "      <td>...</td>\n",
              "      <td>...</td>\n",
              "      <td>...</td>\n",
              "      <td>...</td>\n",
              "      <td>...</td>\n",
              "      <td>...</td>\n",
              "      <td>...</td>\n",
              "      <td>...</td>\n",
              "      <td>...</td>\n",
              "      <td>...</td>\n",
              "      <td>...</td>\n",
              "      <td>...</td>\n",
              "      <td>...</td>\n",
              "      <td>...</td>\n",
              "    </tr>\n",
              "    <tr>\n",
              "      <th>13316928</th>\n",
              "      <td>zyCaDmexT9U</td>\n",
              "      <td>3.42800</td>\n",
              "      <td>21.07000</td>\n",
              "      <td>0</td>\n",
              "      <td>0</td>\n",
              "      <td>1</td>\n",
              "      <td>2099b8a6854b56bafce061b1713b30fd19d21e4ab9e220...</td>\n",
              "      <td>0719afa780fc1a5163ba7a91083139247d1e7f47001ce2...</td>\n",
              "      <td>1674370589728</td>\n",
              "      <td>0</td>\n",
              "      <td>sponsor</td>\n",
              "      <td>skip</td>\n",
              "      <td>YouTube</td>\n",
              "      <td>4097.021</td>\n",
              "      <td>0</td>\n",
              "      <td>0.000000</td>\n",
              "      <td>0</td>\n",
              "      <td>de5ca36f99472672da79fb309bf7dcdb68610eafd3354a...</td>\n",
              "    </tr>\n",
              "    <tr>\n",
              "      <th>13316929</th>\n",
              "      <td>zyCaDmexT9U</td>\n",
              "      <td>578.43800</td>\n",
              "      <td>605.71500</td>\n",
              "      <td>0</td>\n",
              "      <td>0</td>\n",
              "      <td>1</td>\n",
              "      <td>2064917f02d059d3ca829d3135b88277b93561347ff1e9...</td>\n",
              "      <td>0719afa780fc1a5163ba7a91083139247d1e7f47001ce2...</td>\n",
              "      <td>1674370589728</td>\n",
              "      <td>0</td>\n",
              "      <td>sponsor</td>\n",
              "      <td>skip</td>\n",
              "      <td>YouTube</td>\n",
              "      <td>4097.021</td>\n",
              "      <td>0</td>\n",
              "      <td>0.000000</td>\n",
              "      <td>0</td>\n",
              "      <td>de5ca36f99472672da79fb309bf7dcdb68610eafd3354a...</td>\n",
              "    </tr>\n",
              "    <tr>\n",
              "      <th>13316931</th>\n",
              "      <td>0i84SlZWHWc</td>\n",
              "      <td>330.65600</td>\n",
              "      <td>465.50300</td>\n",
              "      <td>0</td>\n",
              "      <td>0</td>\n",
              "      <td>1</td>\n",
              "      <td>7109a12ee6920e701e5fbca7dcfb58020427211f9b4a00...</td>\n",
              "      <td>1f8052e3c092af9030f652066ebf3fe08f42908dbd58a6...</td>\n",
              "      <td>1674370644379</td>\n",
              "      <td>0</td>\n",
              "      <td>sponsor</td>\n",
              "      <td>skip</td>\n",
              "      <td>YouTube</td>\n",
              "      <td>3479.000</td>\n",
              "      <td>0</td>\n",
              "      <td>0.000000</td>\n",
              "      <td>0</td>\n",
              "      <td>fa6db790728f22501ebf6cf174350d0347fc64456b8132...</td>\n",
              "    </tr>\n",
              "    <tr>\n",
              "      <th>13316936</th>\n",
              "      <td>dSa4oL1_f5A</td>\n",
              "      <td>133.94400</td>\n",
              "      <td>197.04500</td>\n",
              "      <td>0</td>\n",
              "      <td>1</td>\n",
              "      <td>1</td>\n",
              "      <td>0a2f61134120884f22e9a660955d9c876bef2ba12dfe3d...</td>\n",
              "      <td>a5fa6d15d60fa762a18045826ca149bbacda3b30b9ed37...</td>\n",
              "      <td>1674370726935</td>\n",
              "      <td>0</td>\n",
              "      <td>sponsor</td>\n",
              "      <td>skip</td>\n",
              "      <td>YouTube</td>\n",
              "      <td>809.141</td>\n",
              "      <td>0</td>\n",
              "      <td>21.834482</td>\n",
              "      <td>0</td>\n",
              "      <td>fb658223dba48f5d29a52a98cb271980c4b00e30953b8b...</td>\n",
              "    </tr>\n",
              "    <tr>\n",
              "      <th>13316942</th>\n",
              "      <td>aBqtEJv1W9k</td>\n",
              "      <td>508.18000</td>\n",
              "      <td>516.99500</td>\n",
              "      <td>0</td>\n",
              "      <td>0</td>\n",
              "      <td>1</td>\n",
              "      <td>33ec2e1af1c26e0f7528eed1e3c8ce39ca9599af0ed37f...</td>\n",
              "      <td>0376e6169da0103e7eaa4ef32c0aa79c3c73235715f6a1...</td>\n",
              "      <td>1674370768209</td>\n",
              "      <td>0</td>\n",
              "      <td>sponsor</td>\n",
              "      <td>skip</td>\n",
              "      <td>YouTube</td>\n",
              "      <td>20831.021</td>\n",
              "      <td>0</td>\n",
              "      <td>0.000000</td>\n",
              "      <td>0</td>\n",
              "      <td>09fde032b07eb4526692869a93712b3c50528a1985d682...</td>\n",
              "    </tr>\n",
              "  </tbody>\n",
              "</table>\n",
              "<p>2228411 rows × 18 columns</p>\n",
              "</div>\n",
              "      <button class=\"colab-df-convert\" onclick=\"convertToInteractive('df-9345f928-6a0d-4b6b-bd01-801e7d7463c5')\"\n",
              "              title=\"Convert this dataframe to an interactive table.\"\n",
              "              style=\"display:none;\">\n",
              "        \n",
              "  <svg xmlns=\"http://www.w3.org/2000/svg\" height=\"24px\"viewBox=\"0 0 24 24\"\n",
              "       width=\"24px\">\n",
              "    <path d=\"M0 0h24v24H0V0z\" fill=\"none\"/>\n",
              "    <path d=\"M18.56 5.44l.94 2.06.94-2.06 2.06-.94-2.06-.94-.94-2.06-.94 2.06-2.06.94zm-11 1L8.5 8.5l.94-2.06 2.06-.94-2.06-.94L8.5 2.5l-.94 2.06-2.06.94zm10 10l.94 2.06.94-2.06 2.06-.94-2.06-.94-.94-2.06-.94 2.06-2.06.94z\"/><path d=\"M17.41 7.96l-1.37-1.37c-.4-.4-.92-.59-1.43-.59-.52 0-1.04.2-1.43.59L10.3 9.45l-7.72 7.72c-.78.78-.78 2.05 0 2.83L4 21.41c.39.39.9.59 1.41.59.51 0 1.02-.2 1.41-.59l7.78-7.78 2.81-2.81c.8-.78.8-2.07 0-2.86zM5.41 20L4 18.59l7.72-7.72 1.47 1.35L5.41 20z\"/>\n",
              "  </svg>\n",
              "      </button>\n",
              "      \n",
              "  <style>\n",
              "    .colab-df-container {\n",
              "      display:flex;\n",
              "      flex-wrap:wrap;\n",
              "      gap: 12px;\n",
              "    }\n",
              "\n",
              "    .colab-df-convert {\n",
              "      background-color: #E8F0FE;\n",
              "      border: none;\n",
              "      border-radius: 50%;\n",
              "      cursor: pointer;\n",
              "      display: none;\n",
              "      fill: #1967D2;\n",
              "      height: 32px;\n",
              "      padding: 0 0 0 0;\n",
              "      width: 32px;\n",
              "    }\n",
              "\n",
              "    .colab-df-convert:hover {\n",
              "      background-color: #E2EBFA;\n",
              "      box-shadow: 0px 1px 2px rgba(60, 64, 67, 0.3), 0px 1px 3px 1px rgba(60, 64, 67, 0.15);\n",
              "      fill: #174EA6;\n",
              "    }\n",
              "\n",
              "    [theme=dark] .colab-df-convert {\n",
              "      background-color: #3B4455;\n",
              "      fill: #D2E3FC;\n",
              "    }\n",
              "\n",
              "    [theme=dark] .colab-df-convert:hover {\n",
              "      background-color: #434B5C;\n",
              "      box-shadow: 0px 1px 3px 1px rgba(0, 0, 0, 0.15);\n",
              "      filter: drop-shadow(0px 1px 2px rgba(0, 0, 0, 0.3));\n",
              "      fill: #FFFFFF;\n",
              "    }\n",
              "  </style>\n",
              "\n",
              "      <script>\n",
              "        const buttonEl =\n",
              "          document.querySelector('#df-9345f928-6a0d-4b6b-bd01-801e7d7463c5 button.colab-df-convert');\n",
              "        buttonEl.style.display =\n",
              "          google.colab.kernel.accessAllowed ? 'block' : 'none';\n",
              "\n",
              "        async function convertToInteractive(key) {\n",
              "          const element = document.querySelector('#df-9345f928-6a0d-4b6b-bd01-801e7d7463c5');\n",
              "          const dataTable =\n",
              "            await google.colab.kernel.invokeFunction('convertToInteractive',\n",
              "                                                     [key], {});\n",
              "          if (!dataTable) return;\n",
              "\n",
              "          const docLinkHtml = 'Like what you see? Visit the ' +\n",
              "            '<a target=\"_blank\" href=https://colab.research.google.com/notebooks/data_table.ipynb>data table notebook</a>'\n",
              "            + ' to learn more about interactive tables.';\n",
              "          element.innerHTML = '';\n",
              "          dataTable['output_type'] = 'display_data';\n",
              "          await google.colab.output.renderOutput(dataTable, element);\n",
              "          const docLink = document.createElement('div');\n",
              "          docLink.innerHTML = docLinkHtml;\n",
              "          element.appendChild(docLink);\n",
              "        }\n",
              "      </script>\n",
              "    </div>\n",
              "  </div>\n",
              "  "
            ]
          },
          "metadata": {},
          "execution_count": 87
        }
      ]
    },
    {
      "cell_type": "markdown",
      "source": [
        "## Youtube-dl\n",
        "\n",
        "L’outil permet de télécharger une vidéo youtube via une commande du type ``youtube-dl [OPTIONS] URL [URL...]``\n",
        "\n",
        "Il existe une bibliothèque python permettant de l’utiliser dans un programme, ce que nous avons fait.\n",
        "\n",
        "Les options sont nombreuses, mais les plus importantes dans le cadre de ce projet sont les suivantes\n",
        "- ``writedescription`` : permet de télécharger la description de la vidéo en plus de son contenu\n",
        "- ``format`` : contrôle le format du fichier téléchargé ainsi que sa qualité\n",
        "\n",
        "L’outil télécharge les vidéos de façon séquentielle ce qui pose problème car le temps de téléchargement est limité par youtube à environ la durée de la vidéo. Ainsi, dans notre cas, il faut trouver un moyen de télécharger plusieurs vidéos en même temps puisque autrement le téléchargement d’une grosse quantité de vidéos sera extrêmement long.\n",
        "\n",
        "Nous avons alors étudié la possibilité d’utiliser plusieurs coeurs du processeurs afin de télécharger les vidéos en parallèle ce qui semble être une solution efficace. Afin de réduire davantage le temps de téléchargement , on télécharge aussi la vidéo dans sa qualité la plus basse possible."
      ],
      "metadata": {
        "id": "9DCPUGBsGWwB"
      }
    },
    {
      "cell_type": "code",
      "source": [
        "def dl_videos(urls):\n",
        "    ydl_opts = {\n",
        "        'writedescription': True,\n",
        "        'outtmpl': f'{base_dir}youtube-dl/%(id)s.mp4',\n",
        "        'format': 'worstvideo[ext=mp4]+worstaudio[ext=m4a]',\n",
        "        'ignoreerrors': 'only_download'\n",
        "    }\n",
        "    with yt_dlp.YoutubeDL(ydl_opts) as ydl:\n",
        "        ydl.download(urls)\n",
        "\n",
        "\n",
        "def dl_videos_parallel(urls):\n",
        "    n_cpu = cpu_count()\n",
        "    urls_split = np.array_split(urls, n_cpu)\n",
        "\n",
        "    res = ThreadPool(n_cpu - 1).map(dl_videos, urls_split)"
      ],
      "metadata": {
        "id": "y9zfMoTxGhSk"
      },
      "execution_count": null,
      "outputs": []
    },
    {
      "cell_type": "code",
      "source": [
        "print(cpu_count())"
      ],
      "metadata": {
        "colab": {
          "base_uri": "https://localhost:8080/"
        },
        "id": "5kelIV9jKlGe",
        "outputId": "32bec33f-3b3d-45fd-8e1b-ffabf1e25166"
      },
      "execution_count": null,
      "outputs": [
        {
          "output_type": "stream",
          "name": "stdout",
          "text": [
            "2\n"
          ]
        }
      ]
    },
    {
      "cell_type": "code",
      "source": [
        "urls = [\n",
        "\"https://www.youtube.com/watch?v=IYLTc3tGdzc\",\n",
        "\"https://www.youtube.com/watch?v=2rt2g_afiAg\",\n",
        "\"https://www.youtube.com/watch?v=BC6rvbxdywg\",\n",
        "\"https://www.youtube.com/watch?v=qYyaKNvcKEA\",\n",
        "\"https://www.youtube.com/watch?v=kLKEZBI3_gU\",\n",
        "\"https://www.youtube.com/watch?v=Zi_XLOBDo_Y\",\n",
        "\"https://www.youtube.com/watch?v=Y7-vP7TnluY\"\n",
        "]\n",
        "\n",
        "dl_videos_parallel(urls)"
      ],
      "metadata": {
        "colab": {
          "base_uri": "https://localhost:8080/"
        },
        "id": "e9v9lXARJWHV",
        "outputId": "bfc123f0-8228-40db-9920-42f01d88b6d2"
      },
      "execution_count": null,
      "outputs": [
        {
          "output_type": "stream",
          "name": "stdout",
          "text": [
            "[youtube] Extracting URL: https://www.youtube.com/watch?v=IYLTc3tGdzc\n",
            "[youtube] IYLTc3tGdzc: Downloading webpage\n",
            "[youtube] IYLTc3tGdzc: Downloading android player API JSON\n",
            "[info] IYLTc3tGdzc: Downloading 1 format(s): 394+139\n",
            "[info] Writing video description to: /content/gdrive/MyDrive/DeepSponsorBlock/youtube-dl/IYLTc3tGdzc.description\n",
            "[download] Destination: /content/gdrive/MyDrive/DeepSponsorBlock/youtube-dl/IYLTc3tGdzc.f394.mp4\n",
            "[download] 100% of  680.79KiB in 00:00:00 at 6.24MiB/s   \n",
            "[download] Destination: /content/gdrive/MyDrive/DeepSponsorBlock/youtube-dl/IYLTc3tGdzc.f139.m4a\n",
            "[download] 100% of  798.34KiB in 00:00:00 at 6.87MiB/s   \n",
            "[Merger] Merging formats into \"/content/gdrive/MyDrive/DeepSponsorBlock/youtube-dl/IYLTc3tGdzc.mp4\"\n",
            "Deleting original file /content/gdrive/MyDrive/DeepSponsorBlock/youtube-dl/IYLTc3tGdzc.f139.m4a (pass -k to keep)\n",
            "Deleting original file /content/gdrive/MyDrive/DeepSponsorBlock/youtube-dl/IYLTc3tGdzc.f394.mp4 (pass -k to keep)\n",
            "[youtube] Extracting URL: https://www.youtube.com/watch?v=2rt2g_afiAg\n",
            "[youtube] 2rt2g_afiAg: Downloading webpage\n",
            "[youtube] 2rt2g_afiAg: Downloading android player API JSON\n",
            "[info] 2rt2g_afiAg: Downloading 1 format(s): 394+139\n",
            "[info] Writing video description to: /content/gdrive/MyDrive/DeepSponsorBlock/youtube-dl/2rt2g_afiAg.description\n",
            "[download] Destination: /content/gdrive/MyDrive/DeepSponsorBlock/youtube-dl/2rt2g_afiAg.f394.mp4\n",
            "[download] 100% of    1.20MiB in 00:00:00 at 10.83MiB/s  \n",
            "[download] Destination: /content/gdrive/MyDrive/DeepSponsorBlock/youtube-dl/2rt2g_afiAg.f139.m4a\n",
            "[download] 100% of  947.82KiB in 00:00:00 at 11.90MiB/s  \n",
            "[Merger] Merging formats into \"/content/gdrive/MyDrive/DeepSponsorBlock/youtube-dl/2rt2g_afiAg.mp4\"\n",
            "Deleting original file /content/gdrive/MyDrive/DeepSponsorBlock/youtube-dl/2rt2g_afiAg.f139.m4a (pass -k to keep)\n",
            "Deleting original file /content/gdrive/MyDrive/DeepSponsorBlock/youtube-dl/2rt2g_afiAg.f394.mp4 (pass -k to keep)\n",
            "[youtube] Extracting URL: https://www.youtube.com/watch?v=BC6rvbxdywg\n",
            "[youtube] BC6rvbxdywg: Downloading webpage\n",
            "[youtube] BC6rvbxdywg: Downloading android player API JSON\n",
            "[info] BC6rvbxdywg: Downloading 1 format(s): 394+139\n",
            "[info] Writing video description to: /content/gdrive/MyDrive/DeepSponsorBlock/youtube-dl/BC6rvbxdywg.description\n",
            "[download] Destination: /content/gdrive/MyDrive/DeepSponsorBlock/youtube-dl/BC6rvbxdywg.f394.mp4\n",
            "[download] 100% of    1.03MiB in 00:00:00 at 8.25MiB/s   \n",
            "[download] Destination: /content/gdrive/MyDrive/DeepSponsorBlock/youtube-dl/BC6rvbxdywg.f139.m4a\n",
            "[download] 100% of    1.16MiB in 00:00:00 at 8.47MiB/s   \n",
            "[Merger] Merging formats into \"/content/gdrive/MyDrive/DeepSponsorBlock/youtube-dl/BC6rvbxdywg.mp4\"\n",
            "Deleting original file /content/gdrive/MyDrive/DeepSponsorBlock/youtube-dl/BC6rvbxdywg.f394.mp4 (pass -k to keep)\n",
            "Deleting original file /content/gdrive/MyDrive/DeepSponsorBlock/youtube-dl/BC6rvbxdywg.f139.m4a (pass -k to keep)\n",
            "[youtube] Extracting URL: https://www.youtube.com/watch?v=qYyaKNvcKEA\n",
            "[youtube] qYyaKNvcKEA: Downloading webpage\n",
            "[youtube] qYyaKNvcKEA: Downloading android player API JSON\n"
          ]
        },
        {
          "output_type": "stream",
          "name": "stderr",
          "text": [
            "ERROR: [youtube] qYyaKNvcKEA: Video unavailable. The uploader has not made this video available in your country\n"
          ]
        },
        {
          "output_type": "stream",
          "name": "stdout",
          "text": [
            "[youtube] Extracting URL: https://www.youtube.com/watch?v=kLKEZBI3_gU\n",
            "[youtube] kLKEZBI3_gU: Downloading webpage\n",
            "[youtube] kLKEZBI3_gU: Downloading android player API JSON\n",
            "[info] kLKEZBI3_gU: Downloading 1 format(s): 394+139\n",
            "[info] Writing video description to: /content/gdrive/MyDrive/DeepSponsorBlock/youtube-dl/kLKEZBI3_gU.description\n",
            "[download] Destination: /content/gdrive/MyDrive/DeepSponsorBlock/youtube-dl/kLKEZBI3_gU.f394.mp4\n",
            "[download] 100% of  169.24KiB in 00:00:00 at 2.14MiB/s   \n",
            "[download] Destination: /content/gdrive/MyDrive/DeepSponsorBlock/youtube-dl/kLKEZBI3_gU.f139.m4a\n",
            "[download] 100% of  399.50KiB in 00:00:00 at 5.72MiB/s   \n",
            "[Merger] Merging formats into \"/content/gdrive/MyDrive/DeepSponsorBlock/youtube-dl/kLKEZBI3_gU.mp4\"\n",
            "Deleting original file /content/gdrive/MyDrive/DeepSponsorBlock/youtube-dl/kLKEZBI3_gU.f394.mp4 (pass -k to keep)\n",
            "Deleting original file /content/gdrive/MyDrive/DeepSponsorBlock/youtube-dl/kLKEZBI3_gU.f139.m4a (pass -k to keep)\n",
            "[youtube] Extracting URL: https://www.youtube.com/watch?v=Zi_XLOBDo_Y\n",
            "[youtube] Zi_XLOBDo_Y: Downloading webpage\n",
            "[youtube] Zi_XLOBDo_Y: Downloading android player API JSON\n",
            "[info] Zi_XLOBDo_Y: Downloading 1 format(s): 597+599\n",
            "[info] Writing video description to: /content/gdrive/MyDrive/DeepSponsorBlock/youtube-dl/Zi_XLOBDo_Y.description\n",
            "[download] Destination: /content/gdrive/MyDrive/DeepSponsorBlock/youtube-dl/Zi_XLOBDo_Y.f597.mp4\n",
            "[download] 100% of  904.72KiB in 00:00:00 at 2.41MiB/s   \n",
            "[download] Destination: /content/gdrive/MyDrive/DeepSponsorBlock/youtube-dl/Zi_XLOBDo_Y.f599.m4a\n",
            "[download] 100% of    1.09MiB in 00:00:00 at 9.57MiB/s   \n",
            "[Merger] Merging formats into \"/content/gdrive/MyDrive/DeepSponsorBlock/youtube-dl/Zi_XLOBDo_Y.mp4\"\n",
            "Deleting original file /content/gdrive/MyDrive/DeepSponsorBlock/youtube-dl/Zi_XLOBDo_Y.f599.m4a (pass -k to keep)\n",
            "Deleting original file /content/gdrive/MyDrive/DeepSponsorBlock/youtube-dl/Zi_XLOBDo_Y.f597.mp4 (pass -k to keep)\n",
            "[youtube] Extracting URL: https://www.youtube.com/watch?v=Y7-vP7TnluY\n",
            "[youtube] Y7-vP7TnluY: Downloading webpage\n",
            "[youtube] Y7-vP7TnluY: Downloading android player API JSON\n",
            "[info] Y7-vP7TnluY: Downloading 1 format(s): 394+139\n",
            "[info] Writing video description to: /content/gdrive/MyDrive/DeepSponsorBlock/youtube-dl/Y7-vP7TnluY.description\n",
            "[download] Destination: /content/gdrive/MyDrive/DeepSponsorBlock/youtube-dl/Y7-vP7TnluY.f394.mp4\n",
            "[download] 100% of    2.20MiB in 00:00:00 at 18.39MiB/s  \n",
            "[download] Destination: /content/gdrive/MyDrive/DeepSponsorBlock/youtube-dl/Y7-vP7TnluY.f139.m4a\n",
            "[download] 100% of    1.55MiB in 00:00:00 at 14.04MiB/s  \n",
            "[Merger] Merging formats into \"/content/gdrive/MyDrive/DeepSponsorBlock/youtube-dl/Y7-vP7TnluY.mp4\"\n",
            "Deleting original file /content/gdrive/MyDrive/DeepSponsorBlock/youtube-dl/Y7-vP7TnluY.f139.m4a (pass -k to keep)\n",
            "Deleting original file /content/gdrive/MyDrive/DeepSponsorBlock/youtube-dl/Y7-vP7TnluY.f394.mp4 (pass -k to keep)\n"
          ]
        }
      ]
    }
  ],
  "metadata": {
    "colab": {
      "provenance": [],
      "toc_visible": true
    },
    "kernelspec": {
      "display_name": "Python 3",
      "name": "python3"
    },
    "language_info": {
      "name": "python"
    }
  },
  "nbformat": 4,
  "nbformat_minor": 0
}